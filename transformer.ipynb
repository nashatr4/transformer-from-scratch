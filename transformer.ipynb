{
 "cells": [
  {
   "cell_type": "markdown",
   "id": "c61069ff",
   "metadata": {},
   "source": [
    "# Implementasi Transformer Dengan Numpy "
   ]
  },
  {
   "cell_type": "markdown",
   "id": "857d05ae",
   "metadata": {},
   "source": [
    "## Setup Awal"
   ]
  },
  {
   "cell_type": "code",
   "execution_count": 1,
   "id": "873dd837",
   "metadata": {},
   "outputs": [],
   "source": [
    "# Import Library\n",
    "import numpy as np\n",
    "import matplotlib.pyplot as plt"
   ]
  },
  {
   "cell_type": "code",
   "execution_count": 2,
   "id": "29f9eb1b",
   "metadata": {},
   "outputs": [],
   "source": [
    "# Declare Hyperparameter\n",
    "vocab_size = 1000\n",
    "d_model = 512\n",
    "seq_len = 10 \n",
    "batch_size = 2\n",
    "num_heads = 8\n",
    "d_ff = 2048"
   ]
  },
  {
   "cell_type": "markdown",
   "id": "8fda1df4",
   "metadata": {},
   "source": [
    "## Implementasi Komponen"
   ]
  },
  {
   "cell_type": "code",
   "execution_count": 3,
   "id": "2f578326",
   "metadata": {},
   "outputs": [],
   "source": [
    "# Utilitas Dasar\n",
    "def softmax(x):\n",
    "    \"\"\"Fungsi aktivasi softmax\"\"\"\n",
    "    e_x = np.exp(x - np.max(x, axis=-1, keepdims=True))\n",
    "    return e_x / np.sum(e_x, axis=-1, keepdims=True)\n",
    "\n",
    "def create_causal_mask(seq_len):\n",
    "    \"\"\"Causal mask untuk decoder\"\"\"\n",
    "    mask = np.triu(np.ones((1, 1, seq_len, seq_len)), k=1)\n",
    "    return np.where(mask, -np.inf, 0)"
   ]
  },
  {
   "cell_type": "code",
   "execution_count": 4,
   "id": "3489e73b",
   "metadata": {},
   "outputs": [],
   "source": [
    "# Lapisan Embedding & Positional Encoding\n",
    "class TokenEmbedding:\n",
    "    \"\"\"Mengubah token integer menjadi vektor embedding\"\"\"\n",
    "    def __init__(self, vocab_size, d_model):\n",
    "        scale = 1 / np.sqrt(d_model)\n",
    "        self.embedding_matrix = np.random.randn(vocab_size, d_model) * scale\n",
    "\n",
    "    def forward(self, token_indices):\n",
    "        return self.embedding_matrix[token_indices]\n",
    "    \n",
    "class PositionalEncoding:\n",
    "    \"\"\"Menambahkan informasi posisi ke embedding.\"\"\"\n",
    "    def __init__(self, seq_len, d_model):\n",
    "        positions = np.arange(seq_len)[:, np.newaxis]\n",
    "        div_term = np.exp(np.arange(0, d_model, 2) * -(np.log(10000.0) / d_model))\n",
    "            \n",
    "        pe = np.zeros((seq_len, d_model))\n",
    "        pe[:, 0::2] = np.sin(positions * div_term)\n",
    "        pe[:, 1::2] = np.cos(positions * div_term)\n",
    "        self.pe = pe[np.newaxis, :, :] \n",
    "\n",
    "    def forward(self, x):\n",
    "        return x + self.pe"
   ]
  },
  {
   "cell_type": "code",
   "execution_count": 5,
   "id": "30d83175",
   "metadata": {},
   "outputs": [],
   "source": [
    "# Lapisan Attention\n",
    "def scaled_dot_product_attention(Q, K, V, mask=None):\n",
    "    \"\"\"Implementasi scaled dot product untuk attention\"\"\"\n",
    "    d_k = Q.shape[-1]\n",
    "    attention_scores = (Q @ K.swapaxes(-2, -1)) / np.sqrt(d_k)\n",
    "    if mask is not None:\n",
    "        attention_scores += mask\n",
    "    attention_weights = softmax(attention_scores)\n",
    "    output = attention_weights @ V\n",
    "    return output, attention_weights\n",
    "\n",
    "class MultiHeadAttention:\n",
    "  \"\"\"Implementasi multi-head attention\"\"\"\n",
    "  def __init__(self, d_model, num_heads):\n",
    "    self.d_model = d_model\n",
    "    self.num_heads = num_heads\n",
    "    self.d_k = d_model // num_heads\n",
    "\n",
    "    scale = 1 / np.sqrt(d_model) # mencegah exploding gradients \n",
    "    self.W_q = np.random.randn(d_model, d_model) * scale\n",
    "    self.W_k = np.random.randn(d_model, d_model) * scale\n",
    "    self.W_v = np.random.randn(d_model, d_model) * scale\n",
    "    self.W_o = np.random.randn(d_model, d_model) * scale\n",
    "  \n",
    "  def forward(self, x, mask=None):\n",
    "    batch_size, seq_len, _ = x.shape\n",
    "\n",
    "    # Proyeksi Linear\n",
    "    Q = x @ self.W_q\n",
    "    K = x @ self.W_k\n",
    "    V = x @ self.W_v\n",
    "\n",
    "    # Reshape untuk Multi-Head\n",
    "    Q = Q.reshape(batch_size, seq_len, self.num_heads, self.d_k).swapaxes(1, 2)\n",
    "    K = K.reshape(batch_size, seq_len, self.num_heads, self.d_k).swapaxes(1, 2)\n",
    "    V = V.reshape(batch_size, seq_len, self.num_heads, self.d_k).swapaxes(1, 2)\n",
    "\n",
    "    if mask is not None:\n",
    "      batch_size, _, seq_len, _ = Q.shape\n",
    "      mask = np.broadcast_to(mask, (batch_size, self.num_heads, seq_len, seq_len))\n",
    "    \n",
    "    attention_output, self.attention_weights = scaled_dot_product_attention(Q, K, V, mask)\n",
    "\n",
    "    concatenated_output = attention_output.swapaxes(1, 2).reshape(batch_size, seq_len, self.d_model)\n",
    "    output = concatenated_output @ self.W_o\n",
    "    return output"
   ]
  },
  {
   "cell_type": "code",
   "execution_count": 6,
   "id": "c261df56",
   "metadata": {},
   "outputs": [],
   "source": [
    "# Lapisan LayerNorm & FFN\n",
    "class LayerNormalization:\n",
    "    \"\"\"Implementasi layer normalization\"\"\"\n",
    "    def __init__(self, d_model, epsilon=1e-5):\n",
    "        self.epsilon = epsilon\n",
    "        self.gamma = np.ones(d_model)\n",
    "        self.beta = np.zeros(d_model)\n",
    "\n",
    "    def forward(self, x):\n",
    "        mean = np.mean(x, axis=-1, keepdims=True)\n",
    "        std = np.std(x, axis=-1, keepdims=True)\n",
    "        return self.gamma * (x - mean) / (std + self.epsilon) + self.beta\n",
    "    \n",
    "class FeedForwardNetwork:\n",
    "    \"\"\"Implementasi feed-forward network\"\"\"\n",
    "    def __init__(self, d_model, d_ff):\n",
    "        scale1 = 1 / np.sqrt(d_model)\n",
    "        scale2 = 1 / np.sqrt(d_ff)\n",
    "        \n",
    "        self.W1 = np.random.randn(d_model, d_ff) * scale1\n",
    "        self.b1 = np.zeros(d_ff)\n",
    "        self.W2 = np.random.randn(d_ff, d_model) * scale2\n",
    "        self.b2 = np.zeros(d_model)\n",
    "\n",
    "    def relu(self, x):\n",
    "        return np.maximum(0, x)\n",
    "    \n",
    "    def forward(self, x):\n",
    "        return self.relu(x @ self.W1 + self.b1) @ self.W2 + self.b2"
   ]
  },
  {
   "cell_type": "markdown",
   "id": "48d125ce",
   "metadata": {},
   "source": [
    "## Eksekusi Forward Pass"
   ]
  },
  {
   "cell_type": "code",
   "execution_count": 7,
   "id": "3d7ca174",
   "metadata": {},
   "outputs": [],
   "source": [
    "# Inisialisasi komponen\n",
    "token_embedding_layer = TokenEmbedding(vocab_size, d_model)\n",
    "positional_encoding_layer = PositionalEncoding(seq_len, d_model)\n",
    "mha_layer = MultiHeadAttention(d_model, num_heads)\n",
    "ffn_layer = FeedForwardNetwork(d_model, d_ff)\n",
    "norm1 = LayerNormalization(d_model)\n",
    "norm2 = LayerNormalization(d_model)\n",
    "final_projection_layer = np.random.randn(d_model, vocab_size)"
   ]
  },
  {
   "cell_type": "code",
   "execution_count": 8,
   "id": "4ad930ac",
   "metadata": {},
   "outputs": [
    {
     "name": "stdout",
     "output_type": "stream",
     "text": [
      "Bentuk Input Tokens: (2, 10)\n",
      "\n",
      "Bentuk setelah Embedding & Positional Encoding: (2, 10, 512)\n",
      "Bentuk setelah Multi-Head Attention: (2, 10, 512)\n",
      "Bentuk setelah Feed-Forward Network: (2, 10, 512)\n",
      "\n",
      "Bentuk Logits Akhir: (2, 10, 1000)\n",
      "Bentuk Probabilitas Akhir: (2, 10, 1000)\n",
      "\n",
      "Bentuk Probabilitas Token Berikutnya: (2, 1000)\n",
      "Total Probabilitas untuk sekuens ke-1: 1.00000\n",
      "Total Probabilitas untuk sekuens ke-2: 1.00000\n"
     ]
    }
   ],
   "source": [
    "# Menjalankan Forward Pass\n",
    "# Menyiapkan input dan mask\n",
    "input_tokens = np.random.randint(0, vocab_size, size=(batch_size, seq_len))\n",
    "mask = create_causal_mask(seq_len)\n",
    "print(f\"Bentuk Input Tokens: {input_tokens.shape}\\n\")\n",
    "\n",
    "# Jalankan forward pass\n",
    "\n",
    "# Langkah A: Embedding + Positional Encoding\n",
    "x = token_embedding_layer.forward(input_tokens)\n",
    "x = positional_encoding_layer.forward(x)\n",
    "print(f\"Bentuk setelah Embedding & Positional Encoding: {x.shape}\")\n",
    "\n",
    "# Langkah B: Transformer (Pre-Norm)\n",
    "# Add & Norm + Multi-Head Attention\n",
    "residual_1 = x\n",
    "x_norm1 = norm1.forward(x)\n",
    "attention_output = mha_layer.forward(x_norm1, mask)\n",
    "x = residual_1 + attention_output\n",
    "print(f\"Bentuk setelah Multi-Head Attention: {x.shape}\")\n",
    "\n",
    "# Add & Norm + Feed-Forward Network\n",
    "residual_2 = x\n",
    "x_norm2 = norm2.forward(x)\n",
    "ffn_output = ffn_layer.forward(x_norm2)\n",
    "x = residual_2 + ffn_output\n",
    "print(f\"Bentuk setelah Feed-Forward Network: {x.shape}\")\n",
    "\n",
    "# Langkah C: Output Layer\n",
    "logits = x @ final_projection_layer\n",
    "probabilities = softmax(logits)\n",
    "print(f\"\\nBentuk Logits Akhir: {logits.shape}\")\n",
    "print(f\"Bentuk Probabilitas Akhir: {probabilities.shape}\")\n",
    "\n",
    "# Bukti Uji Softmax\n",
    "next_token_prob = probabilities[:, -1, :]\n",
    "print(f\"\\nBentuk Probabilitas Token Berikutnya: {next_token_prob.shape}\")\n",
    "for i in range(batch_size):\n",
    "    sum_prob = np.sum(next_token_prob[i, :])\n",
    "    print(f\"Total Probabilitas untuk sekuens ke-{i+1}: {sum_prob:.5f}\")"
   ]
  },
  {
   "cell_type": "markdown",
   "id": "a0d0eba9",
   "metadata": {},
   "source": [
    "## Visualisasi Attention"
   ]
  },
  {
   "cell_type": "code",
   "execution_count": 9,
   "id": "c848d992",
   "metadata": {},
   "outputs": [
    {
     "data": {
      "image/png": "[encoded data removed]",
      "text/plain": [
       "<Figure size 800x800 with 2 Axes>"
      ]
     },
     "metadata": {},
     "output_type": "display_data"
    }
   ],
   "source": [
    "# Ambil bobot attention yang sudah disimpan di dalam mha_layer\n",
    "attention_weights = mha_layer.attention_weights\n",
    "\n",
    "# Pilih satu sampel dari batch untuk divisualisasikan\n",
    "weights_to_plot = attention_weights[0, 0, :, :]\n",
    "\n",
    "# Buat plot heatmap\n",
    "fig, ax = plt.subplots(figsize=(8, 8))\n",
    "cax = ax.imshow(weights_to_plot, cmap='viridis')\n",
    "\n",
    "ax.set_title('Heatmap Bobot Attention (Head 1, Sampel 1)')\n",
    "ax.set_xlabel('Key Tokens (dilihat oleh Query)')\n",
    "ax.set_ylabel('Query Tokens (yang melihat)')\n",
    "fig.colorbar(cax, label='Attention Weight')\n",
    "\n",
    "dummy_labels = [f'Token {i+1}' for i in range(seq_len)]\n",
    "ax.set_xticks(np.arange(seq_len))\n",
    "ax.set_yticks(np.arange(seq_len))\n",
    "ax.set_xticklabels(dummy_labels, rotation=45)\n",
    "ax.set_yticklabels(dummy_labels)\n",
    "\n",
    "plt.show()"
   ]
  }
 ],
 "metadata": {
  "kernelspec": {
   "display_name": "Python 3",
   "language": "python",
   "name": "python3"
  },
  "language_info": {
   "codemirror_mode": {
    "name": "ipython",
    "version": 3
   },
   "file_extension": ".py",
   "mimetype": "text/x-python",
   "name": "python",
   "nbconvert_exporter": "python",
   "pygments_lexer": "ipython3",
   "version": "3.11.1"
  }
 },
 "nbformat": 4,
 "nbformat_minor": 5
}
